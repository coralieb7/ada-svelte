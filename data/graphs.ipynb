{
 "cells": [
  {
   "cell_type": "code",
   "execution_count": 7,
   "metadata": {},
   "outputs": [
    {
     "name": "stdout",
     "output_type": "stream",
     "text": [
      "Bi-monthly data with MM-DD-YYYY formatted dates saved to keyframes.json\n"
     ]
    }
   ],
   "source": [
    "import json\n",
    "\n",
    "input_file = \"/Users/coraliebanuls/Downloads/top_genres_by_year_F.json\"\n",
    "with open(input_file, 'r') as f:\n",
    "    yearly_data = json.load(f)\n",
    "\n",
    "# Interpolate data every 2 months\n",
    "bi_monthly_data = []\n",
    "\n",
    "for i in range(len(yearly_data) - 1):\n",
    "    year1, genres1 = yearly_data[i]\n",
    "    year2, genres2 = yearly_data[i + 1]\n",
    "    \n",
    "    for month in range(1, 13, 4):  # Generate data every 2 months\n",
    "        formatted_date = f\"{month:02d}-01-{year1}\"  # Format as MM-DD-YYYY\n",
    "        \n",
    "        month_data = [formatted_date, []]\n",
    "        for genre1, genre2 in zip(genres1, genres2):\n",
    "            interpolated_value = genre1[\"value\"] + (genre2[\"value\"] - genre1[\"value\"]) * ((month - 1) / 12)\n",
    "            month_data[1].append({\n",
    "                \"name\": genre1[\"name\"],\n",
    "                \"value\": interpolated_value,\n",
    "                \"rank\": genre1[\"rank\"]  # Keeping rank static for simplicity\n",
    "            })\n",
    "        \n",
    "        bi_monthly_data.append(month_data)\n",
    "\n",
    "# Save output to keyframes.json\n",
    "with open('genres3_F.json', 'w') as f:\n",
    "    json.dump(bi_monthly_data, f, indent=4)\n",
    "\n",
    "print(\"Bi-monthly data with MM-DD-YYYY formatted dates saved to keyframes.json\")\n"
   ]
  },
  {
   "cell_type": "code",
   "execution_count": 3,
   "metadata": {},
   "outputs": [],
   "source": [
    "import json\n",
    "with open('/Users/coraliebanuls/Library/CloudStorage/OneDrive-Personal/Documents/EPFL/MA1/ADA/ada-svelte/src/lib/json/bechdel_ratings.json', 'r') as f:\n",
    "    data = json.load(f)"
   ]
  },
  {
   "cell_type": "code",
   "execution_count": 9,
   "metadata": {},
   "outputs": [],
   "source": [
    "directors = data.keys()"
   ]
  },
  {
   "cell_type": "code",
   "execution_count": null,
   "metadata": {},
   "outputs": [],
   "source": []
  }
 ],
 "metadata": {
  "kernelspec": {
   "display_name": "ada",
   "language": "python",
   "name": "python3"
  },
  "language_info": {
   "codemirror_mode": {
    "name": "ipython",
    "version": 3
   },
   "file_extension": ".py",
   "mimetype": "text/x-python",
   "name": "python",
   "nbconvert_exporter": "python",
   "pygments_lexer": "ipython3",
   "version": "3.11.9"
  }
 },
 "nbformat": 4,
 "nbformat_minor": 2
}
